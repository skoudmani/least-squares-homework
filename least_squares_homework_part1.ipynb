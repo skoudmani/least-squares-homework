{
 "cells": [
  {
   "cell_type": "markdown",
   "metadata": {},
   "source": [
    "# Homework: Predicting NVIDIA Stock Price with Least Squares Fitting\n",
    "\n",
    "In this Jupyter notebook, you will analyze NVIDIA's stock price data and determine the line of best fit. This exercise will help you apply linear regression techniques to predict future stock prices based on historical data.\n",
    "\n",
    "Specifically, your task is to:\n",
    "\n",
    "- **Fit a line of best fit** to NVIDIA's stock price data.\n",
    "- **Predict the stock's value on January 1st, 2025**, assuming the trends continue.\n",
    "- **Critically analyse the reliability of this prediction**, considering any caveats or potential reasons why the current trend might not continue.\n",
    "\n",
    "By the end of this notebook, you should have a better understanding of least squares fitting, its real world applications and the limitations of extrapolating stock data."
   ]
  },
  {
   "cell_type": "code",
   "execution_count": 1,
   "metadata": {},
   "outputs": [],
   "source": [
    "# Import necessary libraries\n",
    "import pandas as pd\n",
    "import matplotlib.pyplot as plt\n",
    "import numpy as np"
   ]
  },
  {
   "cell_type": "code",
   "execution_count": null,
   "metadata": {},
   "outputs": [],
   "source": [
    "# Step 1: Load the NVIDIA stock data from a CSV file\n",
    "# The CSV file should have columns: Date, Open, High, Low, Close, Volume\n",
    "df = pd.read_csv(\"./nvidia_stock_data.csv\")\n",
    "\n",
    "# Convert the 'Date' column to datetime format for better plotting\n",
    "df['Date'] = pd.to_datetime(df['Date'])\n",
    "\n",
    "df['Date_ordinal'] = df['Date'].map(pd.Timestamp.toordinal)"
   ]
  },
  {
   "cell_type": "code",
   "execution_count": null,
   "metadata": {},
   "outputs": [],
   "source": [
    "# Step 2: Plot just the data (scatter plot of Date vs Close prices)\n",
    "plt.figure(figsize=(10, 6))\n",
    "plt.scatter(df['Date_ordinal'], df['Close'], color='royalblue', s=100, label=\"NVIDIA Stock Data\", edgecolor='black')\n",
    "plt.xlabel(\"Date\", fontsize=14)\n",
    "plt.ylabel(\"Closing Price [USD]\", fontsize=14)\n",
    "plt.xticks(rotation=45)\n",
    "plt.title(\"NVIDIA Stock Closing Prices\", fontsize=16)"
   ]
  },
  {
   "cell_type": "code",
   "execution_count": null,
   "metadata": {},
   "outputs": [],
   "source": [
    "# Step 3: Fit a line of best fit using the least squares method\n",
    "\n",
    "slope = FIXME #code up the formula for m from the lecture handout\n",
    "intercept = FIXME #code up the formula for c from the lecture handout"
   ]
  },
  {
   "cell_type": "code",
   "execution_count": null,
   "metadata": {},
   "outputs": [],
   "source": [
    "# Uncomment the line below if you got stuck calculating slope and intercept in the previous cell.\n",
    "#slope, intercept = np.polyfit(df['Date_ordinal'], df['Close'], 1)\n",
    "\n",
    "# Generate the y-values for the best-fit line based on the slope and intercept\n",
    "best_fit_line = slope * df['Date_ordinal'] + intercept\n",
    "\n",
    "# Visualise data points as scatter plot\n",
    "plt.scatter(df['Date_ordinal'], df['Close'], color='royalblue', s=100, label=\"NVIDIA Stock Data\", edgecolor='black')\n",
    "# Plot the best-fit line on the same scatter plot\n",
    "plt.plot(df['Date'], best_fit_line, color='coral', linewidth=3, label=f\"Best Fit Line (y = {slope:.2f}x + {intercept:.2f})\")\n",
    "\n",
    "plt.xlabel(\"Date\", fontsize=14)\n",
    "plt.ylabel(\"Closing Price [USD]\", fontsize=14)\n",
    "plt.xticks(rotation=45)\n",
    "plt.title(\"NVIDIA Stock Closing Prices\", fontsize=16)\n",
    "\n",
    "# Add a legend\n",
    "plt.legend()\n",
    "\n",
    "# Display the plot\n",
    "plt.show()"
   ]
  },
  {
   "cell_type": "code",
   "execution_count": null,
   "metadata": {},
   "outputs": [],
   "source": []
  }
 ],
 "metadata": {
  "kernelspec": {
   "display_name": "20180130",
   "language": "python",
   "name": "python3"
  },
  "language_info": {
   "codemirror_mode": {
    "name": "ipython",
    "version": 3
   },
   "file_extension": ".py",
   "mimetype": "text/x-python",
   "name": "python",
   "nbconvert_exporter": "python",
   "pygments_lexer": "ipython3",
   "version": "3.6.4"
  }
 },
 "nbformat": 4,
 "nbformat_minor": 2
}
