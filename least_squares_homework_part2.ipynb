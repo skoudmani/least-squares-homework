{
 "cells": [
  {
   "cell_type": "markdown",
   "metadata": {},
   "source": [
    "# Homework: Analyzing Taylor Swift Ticket Sales with Least Squares Fitting\n",
    "\n",
    "In this part of the homework, you'll work with a data set containing ticket sales from six of Taylor Swift's major tours. Your goal is to:\n",
    "\n",
    "- **Determine the line of best fit** for ticket sales across these tours.\n",
    "- **Calculate the best-fit coefficients (m and c)**, either by hand using the formulae from the lecture or by modifying the provided Jupyter notebook.\n",
    "- **Plot the data** and the line of best fit, identifying and commenting on any outliers.\n",
    "\n",
    "Since this data set only includes six points, you can manually compute the line of best fit, or refer to the methods used in the NVIDIA notebook to assist in your calculations."
   ]
  },
  {
   "cell_type": "code",
   "execution_count": 1,
   "metadata": {},
   "outputs": [],
   "source": [
    "# Import necessary libraries\n",
    "import pandas as pd\n",
    "import matplotlib.pyplot as plt\n",
    "import numpy as np"
   ]
  },
  {
   "cell_type": "code",
   "execution_count": 3,
   "metadata": {},
   "outputs": [
    {
     "name": "stdout",
     "output_type": "stream",
     "text": [
      "   Start Year  Total Tickets Sold\n",
      "0        2009             1200000\n",
      "1        2011             1640000\n",
      "2        2013             1700000\n",
      "3        2015             2280000\n",
      "4        2018             2939000\n",
      "5        2023             4350000\n"
     ]
    }
   ],
   "source": [
    "# Step 1: Load the ticket sales data from a CSV file\n",
    "df = pd.read_csv(\"./taylor_swift_tour_tickets.csv\")\n",
    "\n",
    "#Inspect the data\n",
    "print(df)"
   ]
  },
  {
   "cell_type": "code",
   "execution_count": null,
   "metadata": {},
   "outputs": [],
   "source": [
    "# Step 2: Plot just the data (scatter plot of Date vs Close prices)\n",
    "plt.figure(figsize=(10, 6))\n",
    "plt.scatter(df['FIXME'], df['FIXME'], color='royalblue', s=100, label=\"Taylor Swift Tickets Data\", edgecolor='black')\n",
    "plt.xlabel(\"Tour Year\", fontsize=14)\n",
    "plt.ylabel(\"Total Tickets Sold\", fontsize=14)"
   ]
  },
  {
   "cell_type": "code",
   "execution_count": null,
   "metadata": {},
   "outputs": [],
   "source": [
    "# Step 3: Fit a line of best fit using the least squares method\n",
    "slope = FIXME #code up the formula for m from the lecture handout\n",
    "intercept = FIXME #code up the formula for c from the lecture handout"
   ]
  },
  {
   "cell_type": "code",
   "execution_count": null,
   "metadata": {},
   "outputs": [],
   "source": [
    "# Generate the y-values for the best-fit line based on the slope and intercept\n",
    "best_fit_line = FIXME\n",
    "\n",
    "# Visualise data points as scatter plot\n",
    "plt.scatter(df['FIXME'], df['FIXME'], color='royalblue', s=100, label=\"Taylor Swift Tickets Data\", edgecolor='black')\n",
    "# Plot the best-fit line on the same scatter plot\n",
    "plt.plot(df['FIXME'], best_fit_line, color='coral', linewidth=3, label=f\"Best Fit Line (y = {slope:.2f}x + {intercept:.2f})\")\n",
    "\n",
    "plt.xlabel(\"Tour Year\", fontsize=14)\n",
    "plt.ylabel(\"Total Tickets Sold\", fontsize=14)\n",
    "\n",
    "# Add a legend\n",
    "plt.legend()\n",
    "\n",
    "# Display the plot\n",
    "plt.show()"
   ]
  },
  {
   "cell_type": "code",
   "execution_count": null,
   "metadata": {},
   "outputs": [],
   "source": []
  }
 ],
 "metadata": {
  "kernelspec": {
   "display_name": "20180130",
   "language": "python",
   "name": "python3"
  },
  "language_info": {
   "codemirror_mode": {
    "name": "ipython",
    "version": 3
   },
   "file_extension": ".py",
   "mimetype": "text/x-python",
   "name": "python",
   "nbconvert_exporter": "python",
   "pygments_lexer": "ipython3",
   "version": "3.6.4"
  }
 },
 "nbformat": 4,
 "nbformat_minor": 2
}
